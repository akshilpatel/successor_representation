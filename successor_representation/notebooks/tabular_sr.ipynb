{
 "cells": [
  {
   "cell_type": "code",
   "execution_count": 69,
   "metadata": {},
   "outputs": [],
   "source": [
    "import numpy as np\n",
    "import gym\n",
    "from successor_representation.environments import GridWorld\n",
    "from successor_representation.agents import SRRandomAgent, SRQLearningAgent\n",
    "from successor_representation.utils import run_episodic, run_non_episodic, compute_sr_vec\n",
    "from collections import OrderedDict\n",
    "import matplotlib.pyplot as plt\n",
    "from matplotlib import colors\n",
    "from copy import deepcopy\n",
    "from IPython.display import clear_output\n",
    "%matplotlib inline"
   ]
  },
  {
   "cell_type": "code",
   "execution_count": 70,
   "metadata": {},
   "outputs": [
    {
     "data": {
      "image/png": "[encoded data removed]",
      "text/plain": [
       "<Figure size 1000x700 with 1 Axes>"
      ]
     },
     "metadata": {},
     "output_type": "display_data"
    }
   ],
   "source": [
    "layout = np.loadtxt(\"../environments/gridworld_layouts/four_rooms.txt\", comments=\"//\", dtype=str)\n",
    "env = GridWorld(layout, init_coords=[(2, 2)], terminal_coords=[(20, 9)], reward_coords={(20, 9): 1}, stochasticity=0., default_reward=-0.01)\n",
    "env.name = \"four_rooms\"\n",
    "env.reset()\n",
    "env.render()"
   ]
  },
  {
   "cell_type": "markdown",
   "metadata": {},
   "source": [
    "Neumann series computation of SR:\n",
    "$$\\mathbf{\\Psi}_\\pi = \\sum^\\infty_{t=0}\\left(\\gamma \\mathbf{P}_\\pi\\right)^t = \\left(\\mathbf{I}-\\gamma \\mathbf{P}_\\pi\\right)^{-1}$$"
   ]
  },
  {
   "cell_type": "code",
   "execution_count": 71,
   "metadata": {},
   "outputs": [],
   "source": [
    "\n",
    "def render_sr(env, sr, obs_coord, title, figsize=(10, 7)):\n",
    "        render_colours  = OrderedDict(\n",
    "            block_colour= \"#101010\", # black -1\n",
    "            space_colour= \"#fff7cc\",  # off-white 0\n",
    "        )\n",
    "                \n",
    "        # Creating a colour map?\n",
    "        bounds = list(range(3))\n",
    "        cmap = colors.ListedColormap(render_colours.values())\n",
    "        norm = colors.BoundaryNorm(bounds, cmap.N)\n",
    "        \n",
    "        render_grid = deepcopy(env.grid)\n",
    "        # Creating the figure and axes\n",
    "        fig, ax = plt.subplots(figsize=figsize)\n",
    "        obs_valid = env.coord_to_valid_state[obs_coord]\n",
    "        \n",
    "        # Rendering the grid with specified colours as the base layer\n",
    "        ax.imshow(render_grid, cmap=cmap, norm=norm, zorder=0)\n",
    "\n",
    "        # Adding lines in a grid on top\n",
    "        ax.grid(which = 'major', axis = 'both', linestyle = '-', color = 'k', linewidth = 2, zorder = 1)\n",
    "        \n",
    "        ax.set_xticks(np.arange(-0.5, render_grid.shape[1] , 1))\n",
    "        ax.set_xticklabels([])\n",
    "        ax.set_yticks(np.arange(-0.5, render_grid.shape[0], 1))\n",
    "        ax.set_yticklabels([])\n",
    "        ax.tick_params(left=False, bottom=False)\n",
    "\n",
    "        # State from which to measure SR\n",
    "        ax.annotate(\"X\", obs_coord[::-1], va=\"center\", ha=\"center\", c=\"black\", weight = \"bold\")\n",
    "        \n",
    "        # Annotate init_state\n",
    "        if obs_coord not in env._init_coords:\n",
    "            for coord in env._init_coords:\n",
    "                ax.annotate(\"I\", coord[::-1], va=\"center\", ha=\"center\", c=\"black\", weight = \"bold\")\n",
    "\n",
    "        # Annotate rewarded states\n",
    "        for coord in env._terminal_coords:\n",
    "            ax.annotate(\"T\", coord[::-1], va=\"center\", weight=\"bold\", ha=\"center\", c=\"black\") # gold\n",
    "\n",
    "        sr_grid = render_grid[:, :]\n",
    "        sr_vec = sr[obs_valid, :]\n",
    "        opacity = np.zeros_like(sr_grid, dtype=np.float32)\n",
    "\n",
    "\n",
    "        for i, val in enumerate(sr_vec):\n",
    "            tmp_coord = env.valid_state_to_coord[i]\n",
    "            sr_grid[tmp_coord] = val\n",
    "            opacity[tmp_coord] = 1.\n",
    "\n",
    "\n",
    "        plt.title(title)\n",
    "        sr_heat_map = ax.imshow(sr_grid, cmap=\"viridis\", alpha=opacity, zorder=1)\n",
    "        fig.colorbar(sr_heat_map)\n",
    "\n",
    "        plt.show()"
   ]
  },
  {
   "cell_type": "code",
   "execution_count": 72,
   "metadata": {},
   "outputs": [],
   "source": [
    "buffer, agent, epi_steps = run_episodic(SRQLearningAgent(env.num_valid_states), env=env, num_episodes=10, save=True)"
   ]
  },
  {
   "cell_type": "code",
   "execution_count": 73,
   "metadata": {},
   "outputs": [
    {
     "data": {
      "image/png": "[encoded data removed]",
      "text/plain": [
       "<Figure size 1000x700 with 2 Axes>"
      ]
     },
     "metadata": {},
     "output_type": "display_data"
    }
   ],
   "source": [
    "render_sr(env, deepcopy(agent.sr), (2,2), \"SR for init\")"
   ]
  }
 ],
 "metadata": {
  "kernelspec": {
   "display_name": "Python 3.8.10 ('sr_venv': venv)",
   "language": "python",
   "name": "python3"
  },
  "language_info": {
   "codemirror_mode": {
    "name": "ipython",
    "version": 3
   },
   "file_extension": ".py",
   "mimetype": "text/x-python",
   "name": "python",
   "nbconvert_exporter": "python",
   "pygments_lexer": "ipython3",
   "version": "3.8.10"
  },
  "orig_nbformat": 4,
  "vscode": {
   "interpreter": {
    "hash": "e299560d168d99b74565e387816195b98968ab30edfe99c97455ac10e66b3d68"
   }
  }
 },
 "nbformat": 4,
 "nbformat_minor": 2
}
