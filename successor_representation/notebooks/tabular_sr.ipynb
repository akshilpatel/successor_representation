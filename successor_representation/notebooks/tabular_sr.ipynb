{
 "cells": [
  {
   "cell_type": "code",
   "execution_count": 1,
   "metadata": {},
   "outputs": [],
   "source": [
    "import numpy as np\n",
    "import gym\n",
    "from successor_representation.environments.gridworld import GridWorld\n",
    "from collections import defaultdict\n",
    "import seaborn as sns\n",
    "import matplotlib.pyplot as plt\n",
    "from matplotlib import colors\n",
    "from copy import deepcopy\n",
    "from IPython.display import clear_output\n",
    "%matplotlib inline"
   ]
  },
  {
   "cell_type": "code",
   "execution_count": 2,
   "metadata": {},
   "outputs": [
    {
     "data": {
      "image/png": "[encoded data removed]",
      "text/plain": [
       "<Figure size 1000x700 with 1 Axes>"
      ]
     },
     "metadata": {},
     "output_type": "display_data"
    }
   ],
   "source": [
    "layout = np.loadtxt(\"../environments/gridworld_layouts/four_rooms.txt\", comments=\"//\", dtype=str)\n",
    "env = GridWorld(layout, init_coords=[(2, 2)], terminal_coords=[(20, 9)], reward_coords={(20, 9): 1}, stochasticity=0., default_reward=-0.01)\n",
    "env.reset()\n",
    "env.render()"
   ]
  },
  {
   "cell_type": "code",
   "execution_count": 3,
   "metadata": {},
   "outputs": [],
   "source": [
    "class SRRandomAgent:\n",
    "    def __init__(self, num_valid_obs, sr_lr= 0.25, sr_gamma= 0.99, num_actions=4, seed=12):\n",
    "        self.num_actions = num_actions\n",
    "        self.num_valid_obs = num_valid_obs\n",
    "        self.rng = np.random.default_rng(seed)\n",
    "        self.sr_gamma = sr_gamma\n",
    "        self.sr_lr = sr_lr\n",
    "        self.sr = np.zeros((num_valid_obs, num_valid_obs), dtype=np.float32)\n",
    "    def choose_action(self, obs):\n",
    "        action = self.rng.integers(0, self.num_actions)\n",
    "        return action\n",
    "        \n",
    "    def update(self, *args):\n",
    "        return {}\n",
    "\n",
    "    def update_sr(self, transition):\n",
    "        obs = transition[\"valid_obs\"]\n",
    "        next_obs = transition[\"valid_next_obs\"]\n",
    "    \n",
    "        kron_ohe = np.zeros(self.num_valid_obs)\n",
    "        kron_ohe[obs] = 1\n",
    "    \n",
    "        deltas = self.sr_lr * (kron_ohe + self.sr_gamma * self.sr[next_obs] - self.sr[obs])\n",
    "        self.sr[obs] += deltas\n",
    "        "
   ]
  },
  {
   "cell_type": "code",
   "execution_count": 4,
   "metadata": {},
   "outputs": [],
   "source": [
    "class SRQLearningAgent:\n",
    "    # Assume discrete/Multidiscrete action and obs space.\n",
    "    def __init__(self, num_valid_obs, num_actions=4, sr_lr=0.25, sr_gamma=0.99, gamma=0.99, lr=0.25, seed=42, min_epsilon=1e-4, max_epsilon=1., epsilon_decay=0.999):\n",
    "        self.num_actions = num_actions\n",
    "        self.num_valid_obs = num_valid_obs\n",
    "        self.gamma = gamma\n",
    "        self.lr = lr\n",
    "        self.rng = np.random.default_rng(seed)\n",
    "        self._qfa = defaultdict(lambda: [0. for _ in range(self.num_actions)])\n",
    "        self.min_epsilon       = min_epsilon\n",
    "        self.max_epsilon       = max_epsilon\n",
    "        self.eps_decay_rate    = epsilon_decay\n",
    "        self.epsilon = max_epsilon\n",
    "        self.sr_gamma = sr_gamma\n",
    "        self.sr_lr = sr_lr\n",
    "        self.sr = np.zeros((num_valid_obs, num_valid_obs), dtype=np.float32)\n",
    "\n",
    "    def update(self, batch):\n",
    "        obs      = batch[\"obs\"]\n",
    "        action  = batch[\"action\"]\n",
    "        rewards  = batch[\"reward\"]\n",
    "        next_obs = batch[\"next_obs\"]\n",
    "        dones    = batch[\"done\"]\n",
    "        \n",
    "        next_obs_val = max(self._qfa[next_obs])                                           \n",
    "        q_target  = rewards + self.gamma * (1 - dones) * next_obs_val                       \n",
    "\n",
    "        self._qfa[obs][action]  = self._qfa[obs][action] * (1-self.lr) + q_target * self.lr\n",
    "        return self._qfa[obs][action]\n",
    "\n",
    "        \n",
    "    def choose_action(self, obs):       \n",
    "        # Greedy action\n",
    "        if self.rng.random() > self.epsilon:\n",
    "            return self.get_greedy_action(obs)\n",
    "        # Random action\n",
    "        else:    \n",
    "            return self.rng.integers(self.num_actions)\n",
    "\n",
    "    def get_greedy_action(self, obs):\n",
    "        q_vals     = self._qfa[obs]\n",
    "        max_q      = q_vals.max(axis=-1)         \n",
    "        action = self.rng.choice(np.where(q_vals == max_q)[0]) \n",
    "        return  action\n",
    "\n",
    "    def decay_epsilon(self):\n",
    "        self.epsilon *= self.eps_decay_rate\n",
    "        self.epsilon = np.clip(self.epsilon, self.min_epsilon, self.max_epsilon)\n",
    "\n",
    "        return self.epsilon\n",
    "    \n",
    "    def update_sr(self, transition):\n",
    "        obs = transition[\"valid_obs\"]\n",
    "        next_obs = transition[\"valid_next_obs\"]\n",
    "    \n",
    "        kron_ohe = np.zeros(self.num_valid_obs)\n",
    "        kron_ohe[obs] = 1\n",
    "    \n",
    "        deltas = self.sr_lr * (kron_ohe + self.sr_gamma * self.sr[next_obs] - self.sr[obs])\n",
    "        self.sr[obs] += deltas"
   ]
  },
  {
   "cell_type": "code",
   "execution_count": 5,
   "metadata": {},
   "outputs": [],
   "source": [
    "def run_episodic(agent, env, num_episodes, learn_sr=True, episode_step_lim=10000):\n",
    "    buffer = []\n",
    "    for i in range(num_episodes):\n",
    "        obs, _ = env.reset()\n",
    "        for step in range(episode_step_lim):\n",
    "            action = agent.choose_action(obs)\n",
    "            next_obs, reward, done, *_ = env.step(action)\n",
    "            transition = {\n",
    "                \"obs\" : obs,\n",
    "                \"action\": action,\n",
    "                \"reward\": reward,\n",
    "                \"done\": done,\n",
    "                \"next_obs\": next_obs,    \n",
    "                \"valid_obs\": env.obs_to_valid_idx(obs),\n",
    "                \"valid_next_obs\": env.obs_to_valid_idx(next_obs)\n",
    "            }\n",
    "            buffer.append(transition)\n",
    "            agent.update(transition)\n",
    "            if learn_sr:\n",
    "                agent.update_sr(transition)\n",
    "            \n",
    "\n",
    "            if done:    \n",
    "                break\n",
    "            else:\n",
    "                obs = next_obs\n",
    "\n",
    "    return buffer, agent"
   ]
  },
  {
   "cell_type": "code",
   "execution_count": 6,
   "metadata": {},
   "outputs": [],
   "source": [
    "def run_non_episodic(agent, env, num_interactions, learn_sr=True, episode_step_lim=10000):\n",
    "    buffer = []\n",
    "    obs, _ = env.reset()\n",
    "    for i in range(num_interactions):\n",
    "        action = agent.choose_action(obs)\n",
    "        next_obs, reward, done, *_ = env.step(action)\n",
    "        transition = {\n",
    "            \"obs\" : obs,\n",
    "            \"action\": action,\n",
    "            \"reward\": reward,\n",
    "            \"done\": done,\n",
    "            \"next_obs\": next_obs,\n",
    "            \"valid_obs\": env.obs_to_valid_idx(obs),\n",
    "            \"valid_next_obs\": env.obs_to_valid_idx(next_obs),\n",
    "        }\n",
    "        buffer.append(transition)\n",
    "        agent.update(transition)\n",
    "        if learn_sr:\n",
    "            agent.update_sr(transition)\n",
    "\n",
    "        if done or i+1 % episode_step_lim == 0:    \n",
    "            obs, _ = env.reset()\n",
    "        else:\n",
    "            obs = next_obs\n",
    "\n",
    "    return buffer, agent"
   ]
  },
  {
   "cell_type": "markdown",
   "metadata": {},
   "source": [
    "Neumann series computation of SR:\n",
    "$$\\mathbf{\\Psi}_\\pi = \\sum^\\infty_{t=0}\\left(\\gamma \\mathbf{P}_\\pi\\right)^t = \\left(\\mathbf{I}-\\gamma \\mathbf{P}_\\pi\\right)^{-1}$$"
   ]
  },
  {
   "cell_type": "code",
   "execution_count": 7,
   "metadata": {},
   "outputs": [],
   "source": [
    "def compute_sr_vec(lr, gamma, buffer, num_obs):\n",
    "    psi = np.zeros((num_obs, num_obs), dtype=np.float32)\n",
    "    \n",
    "    for transition in buffer:\n",
    "        obs = transition[\"valid_obs\"]\n",
    "        next_obs = transition[\"valid_next_obs\"]\n",
    "        \n",
    "        kron_ohe = np.zeros(num_obs)\n",
    "        kron_ohe[obs] = 1.\n",
    "        \n",
    "        deltas = lr * (kron_ohe + gamma * psi[next_obs] - psi[obs])\n",
    "        psi[obs] += deltas\n",
    "    return psi"
   ]
  },
  {
   "cell_type": "code",
   "execution_count": 8,
   "metadata": {},
   "outputs": [],
   "source": [
    "def plot_sr(env, sr, obs, title):\n",
    "\n",
    "    fig,ax = plt.subplots()\n",
    "    # Prepare the environment plot.\n",
    "    env_plot = np.copy(env.grid)\n",
    "\n",
    "    # Plot the gridworld.\n",
    "    cmap = colors.ListedColormap([\"white\", \"black\", \"green\", \"red\", \"yellow\"])\n",
    "    bounds = list(range(6))\n",
    "    norm = colors.BoundaryNorm(bounds, cmap.N)\n",
    "    ax.imshow(env_plot, cmap = cmap, norm = norm, zorder = 0)\n",
    "\n",
    "    # Set up axes.\n",
    "    ax.grid(which = 'major', axis = 'both', linestyle = '-', color = 'k', linewidth = 2, zorder = 1)\n",
    "    ax.set_xticks(np.arange(-0.5, env.grid.shape[0] , 1))\n",
    "    ax.set_xticklabels([])\n",
    "    ax.set_yticks(np.arange(-0.5, env.grid.shape[1], 1))\n",
    "    ax.set_yticklabels([])\n",
    "    # Clear tick lines that overlap exterior of grid\n",
    "    ax.tick_params(left=False, bottom=False)\n",
    "\n",
    "    # Prepare the SR heatmap plot\n",
    "    sr = list(sr[obs, :])\n",
    "    res = np.copy(env.grid).astype(np.float32)\n",
    "    # Prepare alpha mask\n",
    "    alphas = np.zeros_like(res, dtype=np.float32)\n",
    "    i_s, j_s = np.nonzero(res != -1) # Tuples of xs and ys for each occupiable state\n",
    "    \n",
    "    for i, (x, y) in enumerate(zip(*[i_s, j_s])):\n",
    "        res[x, y] = sr[x]\n",
    "        \n",
    "\n",
    "    plt.title(title)\n",
    "    sr_map = ax.imshow(res,alpha=alphas)\n",
    "    fig.colorbar(sr_map)\n",
    "    plt.show()\n",
    "\n",
    "\n",
    "def render_sr(env, sr, obs_coord, title, figsize=(10, 7)):\n",
    "        render_grid = deepcopy(env.grid)\n",
    "        fig, ax = plt.subplots(figsize=figsize)\n",
    "        obs_valid = env.coord_to_valid_state[obs_coord]\n",
    "\n",
    "        # for coord, r_val in env._reward_coords.items():\n",
    "        #     plt.annotate(str(r_val), coord[::-1], va=\"center\", ha=\"center\", c=\"gold\" if coord in env._terminal_coords else \"black\")\n",
    "        # # Add numbers to rewarding states.\n",
    "        \n",
    "        bounds = list(range(3))\n",
    "        cmap = colors.ListedColormap([\"white\", \"black\", \"gold\"])\n",
    "        norm = colors.BoundaryNorm(bounds, cmap.N)\n",
    "        ax.imshow(render_grid, cmap=cmap, norm=norm, zorder=0)\n",
    "\n",
    "        ax.grid(which = 'major', axis = 'both', linestyle = '-', color = 'k', linewidth = 2, zorder = 1)\n",
    "        ax.set_xticks(np.arange(-0.5, render_grid.shape[1] , 1))\n",
    "        ax.set_xticklabels([])\n",
    "        ax.set_yticks(np.arange(-0.5, render_grid.shape[0], 1))\n",
    "        ax.set_yticklabels([])\n",
    "        ax.tick_params(left=False, bottom=False)\n",
    "\n",
    "        sr_grid = render_grid[:, :]\n",
    "        sr_vec = sr[obs_valid, :]\n",
    "        opacity = np.zeros_like(sr_grid)\n",
    "        i_s, j_s = np.nonzero(sr_grid != -1)\n",
    "        for idx, i in enumerate(i_s):\n",
    "            tmp_coord = env.valid_state_to_coord[i]\n",
    "            sr_grid[i, j_s[idx]] = sr_vec[env.coord_to_valid_state[i, j_s[idx]]]\n",
    "            opacity[i, j_s[idx]] = 1.\n",
    "\n",
    "        for i in range(sr_vec.shape[0]):\n",
    "            tmp_coord = env.valid_state_to_coord[i]\n",
    "            sr_grid[tmp_coord] = sr_vec[i]\n",
    "            opacity[tmp_coord] = 1.\n",
    "\n",
    "\n",
    "        plt.title(title)\n",
    "        \n",
    "        sr_heat_map = ax.imshow(sr_grid, alpha=opacity, zorder=2)\n",
    "        \n",
    "        fig.colorbar(sr_heat_map)\n",
    "        plt.show()"
   ]
  },
  {
   "cell_type": "code",
   "execution_count": 9,
   "metadata": {},
   "outputs": [],
   "source": [
    "buffer, agent = run_episodic(SRQLearningAgent(env.num_valid_states), env=env, num_episodes=1000)"
   ]
  },
  {
   "cell_type": "code",
   "execution_count": 12,
   "metadata": {},
   "outputs": [
    {
     "data": {
      "image/png": "[encoded data removed]",
      "text/plain": [
       "<Figure size 640x480 with 2 Axes>"
      ]
     },
     "metadata": {},
     "output_type": "display_data"
    }
   ],
   "source": [
    "plot_sr(env, deepcopy(agent.sr), 12, \"SR for init\")"
   ]
  }
 ],
 "metadata": {
  "kernelspec": {
   "display_name": "Python 3.8.10 ('sr_venv': venv)",
   "language": "python",
   "name": "python3"
  },
  "language_info": {
   "codemirror_mode": {
    "name": "ipython",
    "version": 3
   },
   "file_extension": ".py",
   "mimetype": "text/x-python",
   "name": "python",
   "nbconvert_exporter": "python",
   "pygments_lexer": "ipython3",
   "version": "3.8.10"
  },
  "orig_nbformat": 4,
  "vscode": {
   "interpreter": {
    "hash": "00847c23eca20a02448c3988c3e76d1b82c9ae99bb6ebff9f4869a6a4e062018"
   }
  }
 },
 "nbformat": 4,
 "nbformat_minor": 2
}
